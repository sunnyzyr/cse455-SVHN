{
  "cells": [
    {
      "cell_type": "markdown",
      "metadata": {
        "id": "view-in-github",
        "colab_type": "text"
      },
      "source": [
        "<a href=\"https://colab.research.google.com/github/sunnyzyr/cse455-SVHN/blob/main/Final_Project.ipynb\" target=\"_parent\"><img src=\"https://colab.research.google.com/assets/colab-badge.svg\" alt=\"Open In Colab\"/></a>"
      ]
    },
    {
      "cell_type": "code",
      "execution_count": null,
      "metadata": {
        "colab": {
          "base_uri": "https://localhost:8080/"
        },
        "id": "yRzPDiVzsyGz",
        "outputId": "e7df0cef-08e7-47fe-ade2-082fa887e440"
      },
      "outputs": [
        {
          "name": "stdout",
          "output_type": "stream",
          "text": [
            "cuda:0\n"
          ]
        }
      ],
      "source": [
        "import numpy as np\n",
        "import matplotlib.pyplot as plt\n",
        "\n",
        "import torch\n",
        "import torchvision\n",
        "import torchvision.transforms as transforms\n",
        "import torch.nn as nn\n",
        "import torch.nn.functional as F\n",
        "import torch.optim as optim\n",
        "import PIL.Image as Image\n",
        "\n",
        "# make sure to use GPU\n",
        "device = torch.device(\"cuda:0\" if torch.cuda.is_available() else \"cpu\")\n",
        "print(device)"
      ]
    },
    {
      "cell_type": "code",
      "execution_count": null,
      "metadata": {
        "colab": {
          "background_save": true,
          "base_uri": "https://localhost:8080/"
        },
        "id": "zS5Ch2HbC6Gb",
        "outputId": "e91fdf62-a9cc-42f6-d1df-f074e6dab099"
      },
      "outputs": [
        {
          "name": "stdout",
          "output_type": "stream",
          "text": [
            "Mounted at /content/drive\n"
          ]
        }
      ],
      "source": [
        "# connect to google drive and make checkpoints\n",
        "import os\n",
        "from google.colab import drive\n",
        "drive.mount('/content/drive')\n",
        "checkpoints = '/content/drive/MyDrive/colab_files/final_project/'\n",
        "if not os.path.exists(checkpoints):\n",
        "    os.makedirs(checkpoints)"
      ]
    },
    {
      "cell_type": "code",
      "execution_count": null,
      "metadata": {
        "id": "1RhOaVjtYVd4"
      },
      "outputs": [],
      "source": [
        "!ls /content/drive/MyDrive/colab_files/final_project"
      ]
    },
    {
      "cell_type": "code",
      "execution_count": null,
      "metadata": {
        "colab": {
          "base_uri": "https://localhost:8080/"
        },
        "id": "oJ7kwqJPuFoI",
        "outputId": "c909dbc4-828b-4bc3-acac-4518b7faf1bf"
      },
      "outputs": [
        {
          "name": "stdout",
          "output_type": "stream",
          "text": [
            "Drive already mounted at /content/drive; to attempt to forcibly remount, call drive.mount(\"/content/drive\", force_remount=True).\n"
          ]
        }
      ],
      "source": [
        "from google.colab import drive\n",
        "drive.mount('/content/drive')"
      ]
    },
    {
      "cell_type": "code",
      "execution_count": 11,
      "metadata": {
        "colab": {
          "base_uri": "https://localhost:8080/",
          "height": 116,
          "referenced_widgets": [
            "84f801ee8d3844778f0cb2da5cb3060f",
            "22ab0538595d4eda98ae57d9d6a7f678",
            "4cf7c8be38d24d6b98d65abb9ea0b105",
            "2cb11f1e6c864cceb8a777befb828426",
            "63922f03656644f1930b55aeae63f2e5",
            "372fe38a352b4495b74cda312b8c915d",
            "4956dfcacb60451282defb9787a78876",
            "cb5a43915ec64a55b43d36e19619c43b",
            "7fa7961983a94e9fa75191ce89f4947c",
            "199476558fd7432eafab7dd7c9f8a9c7",
            "268b59eac97f4a3680deb63b3560f18f",
            "3aab7e8947144caea584963327f056df",
            "33011fa51ecc40bebb520716553cac56",
            "b2126434330a4a0aa3c7bec12d242268",
            "d2eea8161ad14c529a54b847149e5c44",
            "8099c967b47b4ff3a5b2dd0aebbe0365",
            "0bc9aa49d21843f6bc7351b44e262fe9",
            "412cb717ddeb4a34acac69b1615bbffb",
            "1cb0103de4794a97a9a7d688f9ba406e",
            "d8aa9367c0c74e749ef19d2f20f7753d",
            "d5d71444f3ad4d02882895da6419272d",
            "2e68e57e68384774b1440c535f7fa964"
          ]
        },
        "id": "-sNQBsQiszKj",
        "outputId": "06226436-a23c-4b68-98b6-24a63a9e13e0"
      },
      "outputs": [
        {
          "output_type": "stream",
          "name": "stdout",
          "text": [
            "Downloading http://ufldl.stanford.edu/housenumbers/train_32x32.mat to ./data/train_32x32.mat\n"
          ]
        },
        {
          "output_type": "display_data",
          "data": {
            "text/plain": [
              "  0%|          | 0/182040794 [00:00<?, ?it/s]"
            ],
            "application/vnd.jupyter.widget-view+json": {
              "version_major": 2,
              "version_minor": 0,
              "model_id": "84f801ee8d3844778f0cb2da5cb3060f"
            }
          },
          "metadata": {}
        },
        {
          "output_type": "stream",
          "name": "stdout",
          "text": [
            "Downloading http://ufldl.stanford.edu/housenumbers/test_32x32.mat to ./data/test_32x32.mat\n"
          ]
        },
        {
          "output_type": "display_data",
          "data": {
            "text/plain": [
              "  0%|          | 0/64275384 [00:00<?, ?it/s]"
            ],
            "application/vnd.jupyter.widget-view+json": {
              "version_major": 2,
              "version_minor": 0,
              "model_id": "3aab7e8947144caea584963327f056df"
            }
          },
          "metadata": {}
        }
      ],
      "source": [
        "def get_SVHN_data(augmentation=0):\n",
        "  # Data augmentation transformations.\n",
        "  if augmentation:\n",
        "    transform_train = transforms.Compose([\n",
        "      transforms.RandomCrop(32, padding=4, padding_mode='edge'), # Take 32x32 crops from 40x40 padded images\n",
        "      transforms.RandomHorizontalFlip(),    # 50% of time flip image along y-axis\n",
        "      transforms.ToTensor(),\n",
        "    ])\n",
        "  else: \n",
        "    transform_train = transforms.ToTensor()\n",
        "\n",
        "  transform_test = transforms.Compose([\n",
        "      transforms.ToTensor(),\n",
        "      transforms.Normalize((0.5, 0.5, 0.5), (0.5, 0.5, 0.5)), \n",
        "  ])\n",
        "\n",
        "  trainset = torchvision.datasets.SVHN(root='./data', split='train',\n",
        "                                          download=True, transform=transform_train)\n",
        "  trainloader = torch.utils.data.DataLoader(trainset, batch_size=64,\n",
        "                                            shuffle=True, num_workers=2)\n",
        "\n",
        "  testset = torchvision.datasets.SVHN(root='./data', split='test',\n",
        "                                         download=True, transform=transform_test) \n",
        "  testloader = torch.utils.data.DataLoader(testset, batch_size=64,\n",
        "                                           shuffle=False, num_workers=2)\n",
        "\n",
        "  classes = range(10)\n",
        "  return {'train':trainloader,'test':testloader,'classes':classes}\n",
        "  \n",
        "\n",
        "data = get_SVHN_data()\n"
      ]
    },
    {
      "cell_type": "code",
      "execution_count": null,
      "metadata": {
        "id": "iZR48C7F69Gi"
      },
      "outputs": [],
      "source": [
        "# test whether the data is downloaded successfully\n",
        "# it should return the size for train = 73257, size of test = 26032\n",
        "print(data['train'].__dict__)\n",
        "print(data['test'].__dict__)"
      ]
    },
    {
      "cell_type": "code",
      "execution_count": null,
      "metadata": {
        "colab": {
          "base_uri": "https://localhost:8080/",
          "height": 163
        },
        "id": "llHSMv7js5yA",
        "outputId": "bab6b018-93ae-4023-a612-183e72b1f3e0"
      },
      "outputs": [
        {
          "name": "stdout",
          "output_type": "stream",
          "text": [
            "torch.Size([8, 3, 32, 32])\n"
          ]
        },
        {
          "data": {
            "image/png": "[encoded data removed]",
            "text/plain": [
              "<Figure size 432x288 with 1 Axes>"
            ]
          },
          "metadata": {},
          "output_type": "display_data"
        },
        {
          "name": "stdout",
          "output_type": "stream",
          "text": [
            "Labels:        6,         8,         6,         4,         2,         4,         2,         7\n",
            "torch.Size([8, 3, 32, 32])\n",
            "torch.Size([8, 3072])\n"
          ]
        }
      ],
      "source": [
        "dataiter = iter(data['train'])\n",
        "images, labels = dataiter.next()\n",
        "images = images[:8]\n",
        "print(images.size())\n",
        "\n",
        "def imshow(img):\n",
        "    npimg = img.numpy()\n",
        "    plt.imshow(np.transpose(npimg, (1, 2, 0)))\n",
        "    plt.show()\n",
        "\n",
        "# show images\n",
        "imshow(torchvision.utils.make_grid(images))\n",
        "# print labels\n",
        "print(\"Labels:\" + ', '.join('%9s' % data['classes'][labels[j].item()] for j in range(8)))\n",
        "flat = torch.flatten(images, 1)\n",
        "print(images.size())\n",
        "print(flat.size())"
      ]
    },
    {
      "cell_type": "markdown",
      "metadata": {
        "id": "7S1iYz-MBUoF"
      },
      "source": [
        "### **Defining networks**"
      ]
    },
    {
      "cell_type": "markdown",
      "metadata": {
        "id": "Aq5BjHP9TUog"
      },
      "source": [
        "This model was revised from [tutorial 3](https://colab.research.google.com/drive/1EBz4feoaUvz-o_yeMI27LEQBkvrXNc_4?usp=sharing#scrollTo=76z4UJgTR13J). It has four convolutional layers, maxpooling, a global average pooling and fully connected layer.\n",
        "We also use batch normalization.\n"
      ]
    },
    {
      "cell_type": "code",
      "execution_count": null,
      "metadata": {
        "id": "J2wMO_M7REVR"
      },
      "outputs": [],
      "source": [
        "class ComplexCNN(nn.Module):\n",
        "    def __init__(self):\n",
        "        super(ComplexCNN, self).__init__() \n",
        "\n",
        "        self.conv1 = nn.Conv2d(3, 16, 3, padding=1, bias=False)\n",
        "        self.bn1 = nn.BatchNorm2d(16)\n",
        "\n",
        "        self.conv2 = nn.Conv2d(16, 32, 3, padding=1, bias=False)\n",
        "        self.bn2 = nn.BatchNorm2d(32)\n",
        "\n",
        "        self.conv3 = nn.Conv2d(32, 64, 3, padding=1, bias=False)\n",
        "        self.bn3 = nn.BatchNorm2d(64)\n",
        "\n",
        "        self.conv4 = nn.Conv2d(64, 128, 3, padding=1, bias=False)\n",
        "        self.bn4 = nn.BatchNorm2d(128)\n",
        "\n",
        "        \n",
        "        self.fc1 = nn.Linear(128, 10)\n",
        "\n",
        "    def forward(self, x):\n",
        "        # Input 32x32x3\n",
        "\n",
        "        # x = self.conv1(x)\n",
        "        # x = self.bn1(x)\n",
        "        # x = F.relu(x)\n",
        "        # x = F.max_pool2d(x, kernel_size=2, stride=2)\n",
        "\n",
        "        x = F.max_pool2d(F.relu(self.bn1(self.conv1(x))), kernel_size=2, stride=2) # 16x16x16\n",
        "        x = F.max_pool2d(F.relu(self.bn2(self.conv2(x))), kernel_size=2, stride=2) # 8x8x32\n",
        "        x = F.max_pool2d(F.relu(self.bn3(self.conv3(x))), kernel_size=2, stride=2) # 4x4x64\n",
        "        x = F.max_pool2d(F.relu(self.bn4(self.conv4(x))), kernel_size=2, stride=2) # 2x2x128\n",
        "\n",
        "        # Global average pooling across each channel (Input could be 2x2x256, 4x4x256, 7x3x256, output would always be 256 length vector)\n",
        "        x = F.adaptive_avg_pool2d(x, 1) # size(x) = [128, 128, 1, 1]               # 1x1x128\n",
        "        x = torch.flatten(x, 1)         # size(x) = [128, 128]                     # vector 128\n",
        "        \n",
        "        x = self.fc1(x)\n",
        "        return x"
      ]
    },
    {
      "cell_type": "code",
      "execution_count": 17,
      "metadata": {
        "id": "WTMwCmEnnK_G"
      },
      "outputs": [],
      "source": [
        "class RevisedCNN(nn.Module):\n",
        "    def __init__(self):\n",
        "        super(RevisedCNN, self).__init__() \n",
        "\n",
        "        self.network = nn.Sequential(\n",
        "            nn.Conv2d(3, 16, 3, padding=1, bias=False),\n",
        "            nn.BatchNorm2d(16),\n",
        "            nn.ReLU(),\n",
        "            nn.Conv2d(16, 32, 3, padding=1, bias=False),\n",
        "            nn.BatchNorm2d(32),\n",
        "            nn.ReLU(),\n",
        "            nn.MaxPool2d(2, 2),\n",
        "\n",
        "            nn.Conv2d(32, 64, 3, padding=1, bias=False),\n",
        "            nn.BatchNorm2d(64),\n",
        "            nn.ReLU(),\n",
        "            nn.Conv2d(64, 128, 3, padding=1, bias=False),\n",
        "            nn.BatchNorm2d(128),\n",
        "            nn.MaxPool2d(2, 2),\n",
        "            \n",
        "            nn.Conv2d(128, 256, 3, padding=1, bias=False),\n",
        "            nn.BatchNorm2d(256),\n",
        "            nn.ReLU(),\n",
        "            nn.Conv2d(256, 256, 3, padding=1, bias=False),\n",
        "            nn.ReLU(),\n",
        "            nn.MaxPool2d(2, 2),\n",
        "            nn.Dropout(0.2),\n",
        "\n",
        "            nn.Flatten(),\n",
        "            nn.Linear(4*4*256, 1024),\n",
        "            nn.ReLU(),\n",
        "            nn.Linear(1024, 512),\n",
        "            nn.ReLU(),\n",
        "            nn.Linear(512, 256),\n",
        "            nn.ReLU(),\n",
        "            nn.Linear(256, 128),\n",
        "            nn.ReLU(),\n",
        "            nn.Linear(128, 10)\n",
        "        )\n",
        "\n",
        "\n",
        "    def forward(self, x):\n",
        "        return self.network(x)"
      ]
    },
    {
      "cell_type": "markdown",
      "metadata": {
        "id": "mgijuc-1bFyV"
      },
      "source": [
        "## Training\n",
        "ALso add a schedule parameter to handle learning rate scheduling and a checkpoint_path parameter which will be where training checkpoints are saved (if provided)."
      ]
    },
    {
      "cell_type": "code",
      "execution_count": 15,
      "metadata": {
        "id": "G5eVD_zxbDEw"
      },
      "outputs": [],
      "source": [
        "def train(net, dataloader, epochs=1, start_epoch=0, lr=0.01, momentum=0.9, decay=0.0005, \n",
        "          verbose=1, print_every=10, state=None, schedule={}, checkpoint_path=None):\n",
        "  net.to(device)\n",
        "  net.train()\n",
        "  losses = []\n",
        "  criterion = nn.CrossEntropyLoss()\n",
        "  optimizer = optim.SGD(net.parameters(), lr=lr, momentum=momentum, weight_decay=decay)\n",
        "\n",
        "  # Load previous training state\n",
        "  if state:\n",
        "      net.load_state_dict(state['net'])\n",
        "      optimizer.load_state_dict(state['optimizer'])\n",
        "      start_epoch = state['epoch']\n",
        "      losses = state['losses']\n",
        "\n",
        "  # Fast forward lr schedule through already trained epochs\n",
        "  for epoch in range(start_epoch):\n",
        "    if epoch in schedule:\n",
        "      print (\"Learning rate: %f\"% schedule[epoch])\n",
        "      for g in optimizer.param_groups:\n",
        "        g['lr'] = schedule[epoch]\n",
        "\n",
        "  for epoch in range(start_epoch, epochs):\n",
        "    sum_loss = 0.0\n",
        "\n",
        "    # Update learning rate when scheduled\n",
        "    if epoch in schedule:\n",
        "      print (\"Learning rate: %f\"% schedule[epoch])\n",
        "      for g in optimizer.param_groups:\n",
        "        g['lr'] = schedule[epoch]\n",
        "\n",
        "    for i, batch in enumerate(dataloader, 0):\n",
        "        inputs, labels = batch[0].to(device), batch[1].to(device)\n",
        "\n",
        "        optimizer.zero_grad()\n",
        "\n",
        "        outputs = net(inputs)\n",
        "        loss = criterion(outputs, labels)\n",
        "        loss.backward()  # autograd magic, computes all the partial derivatives\n",
        "        optimizer.step() # takes a step in gradient direction\n",
        "\n",
        "        losses.append(loss.item())\n",
        "        sum_loss += loss.item()\n",
        "        \n",
        "        if i % print_every == print_every-1:    # print every 10 mini-batches\n",
        "            if verbose:\n",
        "              print('[%d, %5d] loss: %.3f' % (epoch, i + 1, sum_loss / print_every))\n",
        "            sum_loss = 0.0\n",
        "    if checkpoint_path:\n",
        "      state = {'epoch': epoch+1, 'net': net.state_dict(), 'optimizer': optimizer.state_dict(), 'losses': losses}\n",
        "      torch.save(state, checkpoint_path + 'checkpoint-%d.pkl'%(epoch+1))\n",
        "  return losses\n",
        "\n",
        "def accuracy(net, dataloader):\n",
        "  net.to(device)\n",
        "  net.eval()\n",
        "  correct = 0\n",
        "  total = 0\n",
        "  with torch.no_grad():\n",
        "      for batch in dataloader:\n",
        "          images, labels = batch[0].to(device), batch[1].to(device)\n",
        "          outputs = net(images)\n",
        "          _, predicted = torch.max(outputs.data, 1)\n",
        "          total += labels.size(0)\n",
        "          correct += (predicted == labels).sum().item()\n",
        "  return correct/total\n",
        "\n",
        "def smooth(x, size):\n",
        "  return np.convolve(x, np.ones(size)/size, mode='valid')"
      ]
    },
    {
      "cell_type": "markdown",
      "metadata": {
        "id": "Xh9a-2aPwdhJ"
      },
      "source": [
        "## Testing\n",
        "For the first model"
      ]
    },
    {
      "cell_type": "code",
      "execution_count": null,
      "metadata": {
        "id": "nAKy-Sz8wgzG"
      },
      "outputs": [],
      "source": [
        "net = ComplexCNN()\n",
        "losses = train(net, data['train'], epochs=20, schedule={0:.1, 5:.01, 15:.001}, checkpoint_path=checkpoints)"
      ]
    },
    {
      "cell_type": "code",
      "execution_count": null,
      "metadata": {
        "colab": {
          "base_uri": "https://localhost:8080/",
          "height": 282
        },
        "id": "fxC3Bx2fxMjA",
        "outputId": "5d21d0f8-ef2e-4689-9729-95dfbc509254"
      },
      "outputs": [
        {
          "name": "stdout",
          "output_type": "stream",
          "text": [
            "Testing  accuracy: 0.761409\n"
          ]
        },
        {
          "data": {
            "image/png": "[encoded data removed]",
            "text/plain": [
              "<Figure size 432x288 with 1 Axes>"
            ]
          },
          "metadata": {},
          "output_type": "display_data"
        }
      ],
      "source": [
        "plt.plot(smooth(losses,50))\n",
        "print(\"Testing  accuracy: %f\" % accuracy(net, data['test']))"
      ]
    },
    {
      "cell_type": "markdown",
      "metadata": {
        "id": "429evNwfawuO"
      },
      "source": [
        "Transfer learning with SHVN, training with pretrained weights"
      ]
    },
    {
      "cell_type": "code",
      "execution_count": null,
      "metadata": {
        "id": "b4yvhHeTa3mW"
      },
      "outputs": [],
      "source": [
        "pretrain_net = ComplexCNN()\n",
        "\n",
        "# Load weights from pretrained model\n",
        "state = torch.load(checkpoints + 'checkpoint-19.pkl')\n",
        "output = pretrain_net.load_state_dict(state['net'], strict=False)\n",
        "\n",
        "pretrain_losses = train(pretrain_net, data['train'], epochs=20, schedule={0:.01, 5:.001, 10:.0001}, checkpoint_path=checkpoints)\n",
        "print(\"Testing accuracy: %f\" % accuracy(pretrain_net, data['test']))\n",
        "plt.plot(smooth(pretrain_losses,50))"
      ]
    },
    {
      "cell_type": "code",
      "execution_count": null,
      "metadata": {
        "colab": {
          "base_uri": "https://localhost:8080/",
          "height": 316
        },
        "id": "u7FN1LBQddJ5",
        "outputId": "4db2bcda-4351-403a-cc97-47d89d7cb7dc"
      },
      "outputs": [
        {
          "name": "stdout",
          "output_type": "stream",
          "text": [
            "Testing accuracy from scratch: 0.761409\n",
            "Testing accuracy pretrained  : 0.747734\n"
          ]
        },
        {
          "data": {
            "text/plain": [
              "[<matplotlib.lines.Line2D at 0x7fd461de6510>]"
            ]
          },
          "execution_count": 29,
          "metadata": {},
          "output_type": "execute_result"
        },
        {
          "data": {
            "image/png": "[encoded data removed]",
            "text/plain": [
              "<Figure size 432x288 with 1 Axes>"
            ]
          },
          "metadata": {},
          "output_type": "display_data"
        }
      ],
      "source": [
        "print(\"Testing accuracy from scratch: %f\" % accuracy(net, data['test']))\n",
        "print(\"Testing accuracy pretrained  : %f\" % accuracy(pretrain_net, data['test']))\n",
        "\n",
        "plt.plot(smooth(losses,50), 'r-')\n",
        "plt.plot(smooth(pretrain_losses,50),'g-')"
      ]
    },
    {
      "cell_type": "markdown",
      "metadata": {
        "id": "KmvGRhc19MLG"
      },
      "source": [
        "For the second model"
      ]
    },
    {
      "cell_type": "code",
      "execution_count": null,
      "metadata": {
        "id": "kxmH7x8ZgQB7"
      },
      "outputs": [],
      "source": [
        "net = RevisedCNN()\n",
        "\n",
        "losses = train(net, data['train'], epochs=20, schedule={0:.1, 5:.01, 15:0.0001}, checkpoint_path=checkpoints)"
      ]
    },
    {
      "cell_type": "code",
      "execution_count": null,
      "metadata": {
        "colab": {
          "base_uri": "https://localhost:8080/",
          "height": 282
        },
        "id": "7YsmNvQSeF7O",
        "outputId": "4b357dd1-b62d-43a0-a45e-df77b11521be"
      },
      "outputs": [
        {
          "name": "stdout",
          "output_type": "stream",
          "text": [
            "test accuracy: 0.928204\n"
          ]
        },
        {
          "data": {
            "image/png": "[encoded data removed]",
            "text/plain": [
              "<Figure size 432x288 with 1 Axes>"
            ]
          },
          "metadata": {},
          "output_type": "display_data"
        }
      ],
      "source": [
        "plt.plot(smooth(losses, 50))\n",
        "print(\"test accuracy: %f\" % accuracy(net, data['test']))"
      ]
    },
    {
      "cell_type": "code",
      "execution_count": 19,
      "metadata": {
        "id": "uUEJ1pcBIekN"
      },
      "outputs": [],
      "source": [
        "torch.save(net, checkpoints + \"RevisedCNN.pth\")"
      ]
    },
    {
      "cell_type": "code",
      "execution_count": null,
      "metadata": {
        "id": "NsQBxBdOZaz4"
      },
      "outputs": [],
      "source": [
        "!pip install Gradio\n"
      ]
    },
    {
      "cell_type": "code",
      "execution_count": null,
      "metadata": {
        "id": "pmtq9CpOZhKg"
      },
      "outputs": [],
      "source": [
        "import gradio as gr\n",
        "from matplotlib import cm"
      ]
    },
    {
      "cell_type": "code",
      "execution_count": null,
      "metadata": {
        "id": "lOzz7hU8m-8b"
      },
      "outputs": [],
      "source": [
        "# testing single images\n",
        "classes = ['0', '1', '2', '3', '4', '5', '6', '7', '8', '9']\n",
        "\n",
        "net_use = torch.load(checkpoints + \"RevisedCNN.pth\", map_location=torch.device('cpu'))\n",
        "\n",
        "transforms_use = transforms.Compose([\n",
        "    transforms.Resize((32, 32)),\n",
        "    transforms.ToTensor(),\n",
        "    transforms.Normalize((0.5, 0.5, 0.5), (0.5, 0.5, 0.5)), \n",
        "])\n",
        "\n",
        "net_use.to('cpu')\n",
        "net_use.eval()\n"
      ]
    },
    {
      "cell_type": "code",
      "execution_count": null,
      "metadata": {
        "id": "YSfN36ARd2vN"
      },
      "outputs": [],
      "source": [
        "def classify(img):\n",
        "    image = Image.fromarray(img.astype('uint8'), 'RGB')\n",
        "    # image = Image.open(img)\n",
        "    image = transforms_use(image).float()\n",
        "    image = image.unsqueeze(0)\n",
        "    with torch.no_grad():\n",
        "      out = net_use(image)\n",
        "      probabilities = torch.nn.functional.softmax(out[0], dim=0)\n",
        "      values, indices = torch.topk(probabilities, 5)\n",
        "      confidences = {classes[i]: v.item() for i, v in zip(indices, values)}\n",
        "    return confidences\n",
        "\n",
        "# img = open(checkpoints + \"three.png\", 'rb')\n",
        "# classify(img)"
      ]
    },
    {
      "cell_type": "code",
      "execution_count": 21,
      "metadata": {
        "colab": {
          "base_uri": "https://localhost:8080/",
          "height": 660
        },
        "id": "ZyJKaI6jZ_0s",
        "outputId": "789f9b1d-dced-4ff2-f6e6-61464a4de246"
      },
      "outputs": [
        {
          "output_type": "stream",
          "name": "stderr",
          "text": [
            "/usr/local/lib/python3.7/dist-packages/gradio/deprecation.py:40: UserWarning: The 'type' parameter has been deprecated. Use the Number component instead.\n",
            "  warnings.warn(value)\n"
          ]
        },
        {
          "output_type": "stream",
          "name": "stdout",
          "text": [
            "Hint: Set streaming=True for Image component to use live streaming.\n",
            "Colab notebook detected. This cell will run indefinitely so that you can see errors and logs. To turn off, set debug=False in launch().\n",
            "Running on public URL: https://11712.gradio.app\n",
            "\n",
            "This share link expires in 72 hours. For free permanent hosting, check out Spaces (https://huggingface.co/spaces)\n"
          ]
        },
        {
          "output_type": "display_data",
          "data": {
            "text/plain": [
              "<IPython.core.display.HTML object>"
            ],
            "text/html": [
              "<div><iframe src=\"https://11712.gradio.app\" width=\"900\" height=\"500\" allow=\"autoplay; camera; microphone;\" frameborder=\"0\" allowfullscreen></iframe></div>"
            ]
          },
          "metadata": {}
        },
        {
          "output_type": "stream",
          "name": "stdout",
          "text": [
            "Keyboard interruption in main thread... closing server.\n"
          ]
        }
      ],
      "source": [
        "\n",
        "label = gr.outputs.Label(num_top_classes=3)\n",
        "rgb_pad = gr.Image(image_mode='RGB', source='canvas', shape=(32, 32), invert_colors=True)\n",
        "\n",
        "interface = gr.Interface(fn=classify, inputs=rgb_pad, outputs=label, live=True).launch(debug=True)\n"
      ]
    }
  ],
  "metadata": {
    "accelerator": "GPU",
    "colab": {
      "collapsed_sections": [],
      "name": "Final Project",
      "provenance": [],
      "include_colab_link": true
    },
    "kernelspec": {
      "display_name": "Python 3",
      "name": "python3"
    },
    "widgets": {
      "application/vnd.jupyter.widget-state+json": {
        "84f801ee8d3844778f0cb2da5cb3060f": {
          "model_module": "@jupyter-widgets/controls",
          "model_name": "HBoxModel",
          "model_module_version": "1.5.0",
          "state": {
            "_dom_classes": [],
            "_model_module": "@jupyter-widgets/controls",
            "_model_module_version": "1.5.0",
            "_model_name": "HBoxModel",
            "_view_count": null,
            "_view_module": "@jupyter-widgets/controls",
            "_view_module_version": "1.5.0",
            "_view_name": "HBoxView",
            "box_style": "",
            "children": [
              "IPY_MODEL_22ab0538595d4eda98ae57d9d6a7f678",
              "IPY_MODEL_4cf7c8be38d24d6b98d65abb9ea0b105",
              "IPY_MODEL_2cb11f1e6c864cceb8a777befb828426"
            ],
            "layout": "IPY_MODEL_63922f03656644f1930b55aeae63f2e5"
          }
        },
        "22ab0538595d4eda98ae57d9d6a7f678": {
          "model_module": "@jupyter-widgets/controls",
          "model_name": "HTMLModel",
          "model_module_version": "1.5.0",
          "state": {
            "_dom_classes": [],
            "_model_module": "@jupyter-widgets/controls",
            "_model_module_version": "1.5.0",
            "_model_name": "HTMLModel",
            "_view_count": null,
            "_view_module": "@jupyter-widgets/controls",
            "_view_module_version": "1.5.0",
            "_view_name": "HTMLView",
            "description": "",
            "description_tooltip": null,
            "layout": "IPY_MODEL_372fe38a352b4495b74cda312b8c915d",
            "placeholder": "​",
            "style": "IPY_MODEL_4956dfcacb60451282defb9787a78876",
            "value": ""
          }
        },
        "4cf7c8be38d24d6b98d65abb9ea0b105": {
          "model_module": "@jupyter-widgets/controls",
          "model_name": "FloatProgressModel",
          "model_module_version": "1.5.0",
          "state": {
            "_dom_classes": [],
            "_model_module": "@jupyter-widgets/controls",
            "_model_module_version": "1.5.0",
            "_model_name": "FloatProgressModel",
            "_view_count": null,
            "_view_module": "@jupyter-widgets/controls",
            "_view_module_version": "1.5.0",
            "_view_name": "ProgressView",
            "bar_style": "success",
            "description": "",
            "description_tooltip": null,
            "layout": "IPY_MODEL_cb5a43915ec64a55b43d36e19619c43b",
            "max": 182040794,
            "min": 0,
            "orientation": "horizontal",
            "style": "IPY_MODEL_7fa7961983a94e9fa75191ce89f4947c",
            "value": 182040794
          }
        },
        "2cb11f1e6c864cceb8a777befb828426": {
          "model_module": "@jupyter-widgets/controls",
          "model_name": "HTMLModel",
          "model_module_version": "1.5.0",
          "state": {
            "_dom_classes": [],
            "_model_module": "@jupyter-widgets/controls",
            "_model_module_version": "1.5.0",
            "_model_name": "HTMLModel",
            "_view_count": null,
            "_view_module": "@jupyter-widgets/controls",
            "_view_module_version": "1.5.0",
            "_view_name": "HTMLView",
            "description": "",
            "description_tooltip": null,
            "layout": "IPY_MODEL_199476558fd7432eafab7dd7c9f8a9c7",
            "placeholder": "​",
            "style": "IPY_MODEL_268b59eac97f4a3680deb63b3560f18f",
            "value": " 182041600/? [00:20&lt;00:00, 7396232.31it/s]"
          }
        },
        "63922f03656644f1930b55aeae63f2e5": {
          "model_module": "@jupyter-widgets/base",
          "model_name": "LayoutModel",
          "model_module_version": "1.2.0",
          "state": {
            "_model_module": "@jupyter-widgets/base",
            "_model_module_version": "1.2.0",
            "_model_name": "LayoutModel",
            "_view_count": null,
            "_view_module": "@jupyter-widgets/base",
            "_view_module_version": "1.2.0",
            "_view_name": "LayoutView",
            "align_content": null,
            "align_items": null,
            "align_self": null,
            "border": null,
            "bottom": null,
            "display": null,
            "flex": null,
            "flex_flow": null,
            "grid_area": null,
            "grid_auto_columns": null,
            "grid_auto_flow": null,
            "grid_auto_rows": null,
            "grid_column": null,
            "grid_gap": null,
            "grid_row": null,
            "grid_template_areas": null,
            "grid_template_columns": null,
            "grid_template_rows": null,
            "height": null,
            "justify_content": null,
            "justify_items": null,
            "left": null,
            "margin": null,
            "max_height": null,
            "max_width": null,
            "min_height": null,
            "min_width": null,
            "object_fit": null,
            "object_position": null,
            "order": null,
            "overflow": null,
            "overflow_x": null,
            "overflow_y": null,
            "padding": null,
            "right": null,
            "top": null,
            "visibility": null,
            "width": null
          }
        },
        "372fe38a352b4495b74cda312b8c915d": {
          "model_module": "@jupyter-widgets/base",
          "model_name": "LayoutModel",
          "model_module_version": "1.2.0",
          "state": {
            "_model_module": "@jupyter-widgets/base",
            "_model_module_version": "1.2.0",
            "_model_name": "LayoutModel",
            "_view_count": null,
            "_view_module": "@jupyter-widgets/base",
            "_view_module_version": "1.2.0",
            "_view_name": "LayoutView",
            "align_content": null,
            "align_items": null,
            "align_self": null,
            "border": null,
            "bottom": null,
            "display": null,
            "flex": null,
            "flex_flow": null,
            "grid_area": null,
            "grid_auto_columns": null,
            "grid_auto_flow": null,
            "grid_auto_rows": null,
            "grid_column": null,
            "grid_gap": null,
            "grid_row": null,
            "grid_template_areas": null,
            "grid_template_columns": null,
            "grid_template_rows": null,
            "height": null,
            "justify_content": null,
            "justify_items": null,
            "left": null,
            "margin": null,
            "max_height": null,
            "max_width": null,
            "min_height": null,
            "min_width": null,
            "object_fit": null,
            "object_position": null,
            "order": null,
            "overflow": null,
            "overflow_x": null,
            "overflow_y": null,
            "padding": null,
            "right": null,
            "top": null,
            "visibility": null,
            "width": null
          }
        },
        "4956dfcacb60451282defb9787a78876": {
          "model_module": "@jupyter-widgets/controls",
          "model_name": "DescriptionStyleModel",
          "model_module_version": "1.5.0",
          "state": {
            "_model_module": "@jupyter-widgets/controls",
            "_model_module_version": "1.5.0",
            "_model_name": "DescriptionStyleModel",
            "_view_count": null,
            "_view_module": "@jupyter-widgets/base",
            "_view_module_version": "1.2.0",
            "_view_name": "StyleView",
            "description_width": ""
          }
        },
        "cb5a43915ec64a55b43d36e19619c43b": {
          "model_module": "@jupyter-widgets/base",
          "model_name": "LayoutModel",
          "model_module_version": "1.2.0",
          "state": {
            "_model_module": "@jupyter-widgets/base",
            "_model_module_version": "1.2.0",
            "_model_name": "LayoutModel",
            "_view_count": null,
            "_view_module": "@jupyter-widgets/base",
            "_view_module_version": "1.2.0",
            "_view_name": "LayoutView",
            "align_content": null,
            "align_items": null,
            "align_self": null,
            "border": null,
            "bottom": null,
            "display": null,
            "flex": null,
            "flex_flow": null,
            "grid_area": null,
            "grid_auto_columns": null,
            "grid_auto_flow": null,
            "grid_auto_rows": null,
            "grid_column": null,
            "grid_gap": null,
            "grid_row": null,
            "grid_template_areas": null,
            "grid_template_columns": null,
            "grid_template_rows": null,
            "height": null,
            "justify_content": null,
            "justify_items": null,
            "left": null,
            "margin": null,
            "max_height": null,
            "max_width": null,
            "min_height": null,
            "min_width": null,
            "object_fit": null,
            "object_position": null,
            "order": null,
            "overflow": null,
            "overflow_x": null,
            "overflow_y": null,
            "padding": null,
            "right": null,
            "top": null,
            "visibility": null,
            "width": null
          }
        },
        "7fa7961983a94e9fa75191ce89f4947c": {
          "model_module": "@jupyter-widgets/controls",
          "model_name": "ProgressStyleModel",
          "model_module_version": "1.5.0",
          "state": {
            "_model_module": "@jupyter-widgets/controls",
            "_model_module_version": "1.5.0",
            "_model_name": "ProgressStyleModel",
            "_view_count": null,
            "_view_module": "@jupyter-widgets/base",
            "_view_module_version": "1.2.0",
            "_view_name": "StyleView",
            "bar_color": null,
            "description_width": ""
          }
        },
        "199476558fd7432eafab7dd7c9f8a9c7": {
          "model_module": "@jupyter-widgets/base",
          "model_name": "LayoutModel",
          "model_module_version": "1.2.0",
          "state": {
            "_model_module": "@jupyter-widgets/base",
            "_model_module_version": "1.2.0",
            "_model_name": "LayoutModel",
            "_view_count": null,
            "_view_module": "@jupyter-widgets/base",
            "_view_module_version": "1.2.0",
            "_view_name": "LayoutView",
            "align_content": null,
            "align_items": null,
            "align_self": null,
            "border": null,
            "bottom": null,
            "display": null,
            "flex": null,
            "flex_flow": null,
            "grid_area": null,
            "grid_auto_columns": null,
            "grid_auto_flow": null,
            "grid_auto_rows": null,
            "grid_column": null,
            "grid_gap": null,
            "grid_row": null,
            "grid_template_areas": null,
            "grid_template_columns": null,
            "grid_template_rows": null,
            "height": null,
            "justify_content": null,
            "justify_items": null,
            "left": null,
            "margin": null,
            "max_height": null,
            "max_width": null,
            "min_height": null,
            "min_width": null,
            "object_fit": null,
            "object_position": null,
            "order": null,
            "overflow": null,
            "overflow_x": null,
            "overflow_y": null,
            "padding": null,
            "right": null,
            "top": null,
            "visibility": null,
            "width": null
          }
        },
        "268b59eac97f4a3680deb63b3560f18f": {
          "model_module": "@jupyter-widgets/controls",
          "model_name": "DescriptionStyleModel",
          "model_module_version": "1.5.0",
          "state": {
            "_model_module": "@jupyter-widgets/controls",
            "_model_module_version": "1.5.0",
            "_model_name": "DescriptionStyleModel",
            "_view_count": null,
            "_view_module": "@jupyter-widgets/base",
            "_view_module_version": "1.2.0",
            "_view_name": "StyleView",
            "description_width": ""
          }
        },
        "3aab7e8947144caea584963327f056df": {
          "model_module": "@jupyter-widgets/controls",
          "model_name": "HBoxModel",
          "model_module_version": "1.5.0",
          "state": {
            "_dom_classes": [],
            "_model_module": "@jupyter-widgets/controls",
            "_model_module_version": "1.5.0",
            "_model_name": "HBoxModel",
            "_view_count": null,
            "_view_module": "@jupyter-widgets/controls",
            "_view_module_version": "1.5.0",
            "_view_name": "HBoxView",
            "box_style": "",
            "children": [
              "IPY_MODEL_33011fa51ecc40bebb520716553cac56",
              "IPY_MODEL_b2126434330a4a0aa3c7bec12d242268",
              "IPY_MODEL_d2eea8161ad14c529a54b847149e5c44"
            ],
            "layout": "IPY_MODEL_8099c967b47b4ff3a5b2dd0aebbe0365"
          }
        },
        "33011fa51ecc40bebb520716553cac56": {
          "model_module": "@jupyter-widgets/controls",
          "model_name": "HTMLModel",
          "model_module_version": "1.5.0",
          "state": {
            "_dom_classes": [],
            "_model_module": "@jupyter-widgets/controls",
            "_model_module_version": "1.5.0",
            "_model_name": "HTMLModel",
            "_view_count": null,
            "_view_module": "@jupyter-widgets/controls",
            "_view_module_version": "1.5.0",
            "_view_name": "HTMLView",
            "description": "",
            "description_tooltip": null,
            "layout": "IPY_MODEL_0bc9aa49d21843f6bc7351b44e262fe9",
            "placeholder": "​",
            "style": "IPY_MODEL_412cb717ddeb4a34acac69b1615bbffb",
            "value": ""
          }
        },
        "b2126434330a4a0aa3c7bec12d242268": {
          "model_module": "@jupyter-widgets/controls",
          "model_name": "FloatProgressModel",
          "model_module_version": "1.5.0",
          "state": {
            "_dom_classes": [],
            "_model_module": "@jupyter-widgets/controls",
            "_model_module_version": "1.5.0",
            "_model_name": "FloatProgressModel",
            "_view_count": null,
            "_view_module": "@jupyter-widgets/controls",
            "_view_module_version": "1.5.0",
            "_view_name": "ProgressView",
            "bar_style": "success",
            "description": "",
            "description_tooltip": null,
            "layout": "IPY_MODEL_1cb0103de4794a97a9a7d688f9ba406e",
            "max": 64275384,
            "min": 0,
            "orientation": "horizontal",
            "style": "IPY_MODEL_d8aa9367c0c74e749ef19d2f20f7753d",
            "value": 64275384
          }
        },
        "d2eea8161ad14c529a54b847149e5c44": {
          "model_module": "@jupyter-widgets/controls",
          "model_name": "HTMLModel",
          "model_module_version": "1.5.0",
          "state": {
            "_dom_classes": [],
            "_model_module": "@jupyter-widgets/controls",
            "_model_module_version": "1.5.0",
            "_model_name": "HTMLModel",
            "_view_count": null,
            "_view_module": "@jupyter-widgets/controls",
            "_view_module_version": "1.5.0",
            "_view_name": "HTMLView",
            "description": "",
            "description_tooltip": null,
            "layout": "IPY_MODEL_d5d71444f3ad4d02882895da6419272d",
            "placeholder": "​",
            "style": "IPY_MODEL_2e68e57e68384774b1440c535f7fa964",
            "value": " 64275456/? [00:18&lt;00:00, 2805760.31it/s]"
          }
        },
        "8099c967b47b4ff3a5b2dd0aebbe0365": {
          "model_module": "@jupyter-widgets/base",
          "model_name": "LayoutModel",
          "model_module_version": "1.2.0",
          "state": {
            "_model_module": "@jupyter-widgets/base",
            "_model_module_version": "1.2.0",
            "_model_name": "LayoutModel",
            "_view_count": null,
            "_view_module": "@jupyter-widgets/base",
            "_view_module_version": "1.2.0",
            "_view_name": "LayoutView",
            "align_content": null,
            "align_items": null,
            "align_self": null,
            "border": null,
            "bottom": null,
            "display": null,
            "flex": null,
            "flex_flow": null,
            "grid_area": null,
            "grid_auto_columns": null,
            "grid_auto_flow": null,
            "grid_auto_rows": null,
            "grid_column": null,
            "grid_gap": null,
            "grid_row": null,
            "grid_template_areas": null,
            "grid_template_columns": null,
            "grid_template_rows": null,
            "height": null,
            "justify_content": null,
            "justify_items": null,
            "left": null,
            "margin": null,
            "max_height": null,
            "max_width": null,
            "min_height": null,
            "min_width": null,
            "object_fit": null,
            "object_position": null,
            "order": null,
            "overflow": null,
            "overflow_x": null,
            "overflow_y": null,
            "padding": null,
            "right": null,
            "top": null,
            "visibility": null,
            "width": null
          }
        },
        "0bc9aa49d21843f6bc7351b44e262fe9": {
          "model_module": "@jupyter-widgets/base",
          "model_name": "LayoutModel",
          "model_module_version": "1.2.0",
          "state": {
            "_model_module": "@jupyter-widgets/base",
            "_model_module_version": "1.2.0",
            "_model_name": "LayoutModel",
            "_view_count": null,
            "_view_module": "@jupyter-widgets/base",
            "_view_module_version": "1.2.0",
            "_view_name": "LayoutView",
            "align_content": null,
            "align_items": null,
            "align_self": null,
            "border": null,
            "bottom": null,
            "display": null,
            "flex": null,
            "flex_flow": null,
            "grid_area": null,
            "grid_auto_columns": null,
            "grid_auto_flow": null,
            "grid_auto_rows": null,
            "grid_column": null,
            "grid_gap": null,
            "grid_row": null,
            "grid_template_areas": null,
            "grid_template_columns": null,
            "grid_template_rows": null,
            "height": null,
            "justify_content": null,
            "justify_items": null,
            "left": null,
            "margin": null,
            "max_height": null,
            "max_width": null,
            "min_height": null,
            "min_width": null,
            "object_fit": null,
            "object_position": null,
            "order": null,
            "overflow": null,
            "overflow_x": null,
            "overflow_y": null,
            "padding": null,
            "right": null,
            "top": null,
            "visibility": null,
            "width": null
          }
        },
        "412cb717ddeb4a34acac69b1615bbffb": {
          "model_module": "@jupyter-widgets/controls",
          "model_name": "DescriptionStyleModel",
          "model_module_version": "1.5.0",
          "state": {
            "_model_module": "@jupyter-widgets/controls",
            "_model_module_version": "1.5.0",
            "_model_name": "DescriptionStyleModel",
            "_view_count": null,
            "_view_module": "@jupyter-widgets/base",
            "_view_module_version": "1.2.0",
            "_view_name": "StyleView",
            "description_width": ""
          }
        },
        "1cb0103de4794a97a9a7d688f9ba406e": {
          "model_module": "@jupyter-widgets/base",
          "model_name": "LayoutModel",
          "model_module_version": "1.2.0",
          "state": {
            "_model_module": "@jupyter-widgets/base",
            "_model_module_version": "1.2.0",
            "_model_name": "LayoutModel",
            "_view_count": null,
            "_view_module": "@jupyter-widgets/base",
            "_view_module_version": "1.2.0",
            "_view_name": "LayoutView",
            "align_content": null,
            "align_items": null,
            "align_self": null,
            "border": null,
            "bottom": null,
            "display": null,
            "flex": null,
            "flex_flow": null,
            "grid_area": null,
            "grid_auto_columns": null,
            "grid_auto_flow": null,
            "grid_auto_rows": null,
            "grid_column": null,
            "grid_gap": null,
            "grid_row": null,
            "grid_template_areas": null,
            "grid_template_columns": null,
            "grid_template_rows": null,
            "height": null,
            "justify_content": null,
            "justify_items": null,
            "left": null,
            "margin": null,
            "max_height": null,
            "max_width": null,
            "min_height": null,
            "min_width": null,
            "object_fit": null,
            "object_position": null,
            "order": null,
            "overflow": null,
            "overflow_x": null,
            "overflow_y": null,
            "padding": null,
            "right": null,
            "top": null,
            "visibility": null,
            "width": null
          }
        },
        "d8aa9367c0c74e749ef19d2f20f7753d": {
          "model_module": "@jupyter-widgets/controls",
          "model_name": "ProgressStyleModel",
          "model_module_version": "1.5.0",
          "state": {
            "_model_module": "@jupyter-widgets/controls",
            "_model_module_version": "1.5.0",
            "_model_name": "ProgressStyleModel",
            "_view_count": null,
            "_view_module": "@jupyter-widgets/base",
            "_view_module_version": "1.2.0",
            "_view_name": "StyleView",
            "bar_color": null,
            "description_width": ""
          }
        },
        "d5d71444f3ad4d02882895da6419272d": {
          "model_module": "@jupyter-widgets/base",
          "model_name": "LayoutModel",
          "model_module_version": "1.2.0",
          "state": {
            "_model_module": "@jupyter-widgets/base",
            "_model_module_version": "1.2.0",
            "_model_name": "LayoutModel",
            "_view_count": null,
            "_view_module": "@jupyter-widgets/base",
            "_view_module_version": "1.2.0",
            "_view_name": "LayoutView",
            "align_content": null,
            "align_items": null,
            "align_self": null,
            "border": null,
            "bottom": null,
            "display": null,
            "flex": null,
            "flex_flow": null,
            "grid_area": null,
            "grid_auto_columns": null,
            "grid_auto_flow": null,
            "grid_auto_rows": null,
            "grid_column": null,
            "grid_gap": null,
            "grid_row": null,
            "grid_template_areas": null,
            "grid_template_columns": null,
            "grid_template_rows": null,
            "height": null,
            "justify_content": null,
            "justify_items": null,
            "left": null,
            "margin": null,
            "max_height": null,
            "max_width": null,
            "min_height": null,
            "min_width": null,
            "object_fit": null,
            "object_position": null,
            "order": null,
            "overflow": null,
            "overflow_x": null,
            "overflow_y": null,
            "padding": null,
            "right": null,
            "top": null,
            "visibility": null,
            "width": null
          }
        },
        "2e68e57e68384774b1440c535f7fa964": {
          "model_module": "@jupyter-widgets/controls",
          "model_name": "DescriptionStyleModel",
          "model_module_version": "1.5.0",
          "state": {
            "_model_module": "@jupyter-widgets/controls",
            "_model_module_version": "1.5.0",
            "_model_name": "DescriptionStyleModel",
            "_view_count": null,
            "_view_module": "@jupyter-widgets/base",
            "_view_module_version": "1.2.0",
            "_view_name": "StyleView",
            "description_width": ""
          }
        }
      }
    }
  },
  "nbformat": 4,
  "nbformat_minor": 0
}